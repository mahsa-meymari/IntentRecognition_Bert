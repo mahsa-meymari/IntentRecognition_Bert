{
  "nbformat": 4,
  "nbformat_minor": 0,
  "metadata": {
    "colab": {
      "name": "IntentRecognition.ipynb",
      "provenance": [],
      "collapsed_sections": []
    },
    "kernelspec": {
      "name": "python3",
      "display_name": "Python 3"
    },
    "accelerator": "GPU"
  },
  "cells": [
    {
      "cell_type": "markdown",
      "metadata": {
        "id": "LHAZNJPvtJfM",
        "colab_type": "text"
      },
      "source": [
        "install some libraries"
      ]
    },
    {
      "cell_type": "code",
      "metadata": {
        "id": "bcsMqb2_uJXw",
        "colab_type": "code",
        "colab": {
          "base_uri": "https://localhost:8080/",
          "height": 122
        },
        "outputId": "ac967119-bbf7-431c-f713-efcd0f12d42f"
      },
      "source": [
        "!pip install bert-for-tf2"
      ],
      "execution_count": 18,
      "outputs": [
        {
          "output_type": "stream",
          "text": [
            "Requirement already satisfied: bert-for-tf2 in /usr/local/lib/python3.6/dist-packages (0.14.5)\n",
            "Requirement already satisfied: params-flow>=0.8.0 in /usr/local/lib/python3.6/dist-packages (from bert-for-tf2) (0.8.2)\n",
            "Requirement already satisfied: py-params>=0.9.6 in /usr/local/lib/python3.6/dist-packages (from bert-for-tf2) (0.9.7)\n",
            "Requirement already satisfied: numpy in /usr/local/lib/python3.6/dist-packages (from params-flow>=0.8.0->bert-for-tf2) (1.18.5)\n",
            "Requirement already satisfied: tqdm in /usr/local/lib/python3.6/dist-packages (from params-flow>=0.8.0->bert-for-tf2) (4.41.1)\n"
          ],
          "name": "stdout"
        }
      ]
    },
    {
      "cell_type": "markdown",
      "metadata": {
        "id": "_sorsXrHuEcf",
        "colab_type": "text"
      },
      "source": [
        "Import some libraries"
      ]
    },
    {
      "cell_type": "code",
      "metadata": {
        "id": "Bg53Mi5RtGU7",
        "colab_type": "code",
        "colab": {}
      },
      "source": [
        "import pandas as pd\n",
        "import seaborn as sns\n",
        "import matplotlib.pyplot as plt\n",
        "import os\n",
        "import numpy as np\n",
        "import tensorflow as tf\n",
        "from bert import BertModelLayer\n",
        "from bert.loader import StockBertConfig,map_stock_config_to_params, load_stock_weights\n",
        "from keras.layers import Input\n",
        "from keras.utils import plot_model\n",
        "import keras\n",
        "from bert import bert_tokenization"
      ],
      "execution_count": 19,
      "outputs": []
    },
    {
      "cell_type": "markdown",
      "metadata": {
        "id": "1JiHj6o7E7z4",
        "colab_type": "text"
      },
      "source": [
        "Download Data"
      ]
    },
    {
      "cell_type": "code",
      "metadata": {
        "id": "lqf4alJgEcv1",
        "colab_type": "code",
        "colab": {
          "base_uri": "https://localhost:8080/",
          "height": 221
        },
        "outputId": "a9ccfb92-6d8e-4526-c3c7-74917c2d0cf1"
      },
      "source": [
        "!gdown --id 1OlcvGWReJMuyYQuOZm149vHWwPtlboR6 --output train.csv\n",
        "!gdown --id 1Oi5cRlTybuIF2Fl5Bfsr-KkqrXrdt77w --output valid.csv\n",
        "!gdown --id 1ep9H6-HvhB4utJRLVcLzieWNUSG3P_uF --output test.csv"
      ],
      "execution_count": 20,
      "outputs": [
        {
          "output_type": "stream",
          "text": [
            "Downloading...\n",
            "From: https://drive.google.com/uc?id=1OlcvGWReJMuyYQuOZm149vHWwPtlboR6\n",
            "To: /content/train.csv\n",
            "100% 799k/799k [00:00<00:00, 55.1MB/s]\n",
            "Downloading...\n",
            "From: https://drive.google.com/uc?id=1Oi5cRlTybuIF2Fl5Bfsr-KkqrXrdt77w\n",
            "To: /content/valid.csv\n",
            "100% 43.3k/43.3k [00:00<00:00, 15.4MB/s]\n",
            "Downloading...\n",
            "From: https://drive.google.com/uc?id=1ep9H6-HvhB4utJRLVcLzieWNUSG3P_uF\n",
            "To: /content/test.csv\n",
            "100% 43.1k/43.1k [00:00<00:00, 40.0MB/s]\n"
          ],
          "name": "stdout"
        }
      ]
    },
    {
      "cell_type": "markdown",
      "metadata": {
        "id": "A7TIb9ihFD8M",
        "colab_type": "text"
      },
      "source": [
        "load data in panda dataframes"
      ]
    },
    {
      "cell_type": "code",
      "metadata": {
        "id": "9v1ziPW7FFre",
        "colab_type": "code",
        "colab": {
          "base_uri": "https://localhost:8080/",
          "height": 170
        },
        "outputId": "a15dc520-50ec-485d-c6ce-7b4d80ceee71"
      },
      "source": [
        "train = pd.read_csv('train.csv')\n",
        "test = pd.read_csv('test.csv')\n",
        "valid = pd.read_csv('valid.csv')\n",
        "print('num of train examples : {} \\nnum of validation example: {} \\nnum of test examples :{}'.\n",
        "      format(train.shape[0],valid.shape[0],test.shape[0]))\n",
        "print(train.head())"
      ],
      "execution_count": 21,
      "outputs": [
        {
          "output_type": "stream",
          "text": [
            "num of train examples : 13084 \n",
            "num of validation example: 700 \n",
            "num of test examples :700\n",
            "                                                text         intent\n",
            "0   listen to westbam alumb allergic on google music      PlayMusic\n",
            "1         add step to me to the 50 clásicos playlist  AddToPlaylist\n",
            "2  i give this current textbook a rating value of...       RateBook\n",
            "3               play the song little robin redbreast      PlayMusic\n",
            "4  please add iris dement to my playlist this is ...  AddToPlaylist\n"
          ],
          "name": "stdout"
        }
      ]
    },
    {
      "cell_type": "markdown",
      "metadata": {
        "id": "I87b3jkluWdV",
        "colab_type": "text"
      },
      "source": [
        "Check if we have enough data for every category"
      ]
    },
    {
      "cell_type": "code",
      "metadata": {
        "id": "2SiGufjZJz90",
        "colab_type": "code",
        "colab": {
          "base_uri": "https://localhost:8080/",
          "height": 378
        },
        "outputId": "9c5118da-d298-409c-808c-79be68edb7e1"
      },
      "source": [
        "chart = sns.countplot(train.intent)\n",
        "plt.title(\"Number of examples per intent\")\n",
        "chart.set_xticklabels(chart.get_xticklabels(),Rotation = 50)\n",
        "plt.show()"
      ],
      "execution_count": 22,
      "outputs": [
        {
          "output_type": "display_data",
          "data": {
            "image/png": "[encoded data removed]",
            "text/plain": [
              "<Figure size 432x288 with 1 Axes>"
            ]
          },
          "metadata": {
            "tags": [],
            "needs_background": "light"
          }
        }
      ]
    },
    {
      "cell_type": "markdown",
      "metadata": {
        "id": "7LsZ91gtZFp5",
        "colab_type": "text"
      },
      "source": [
        "Downlod Bert model"
      ]
    },
    {
      "cell_type": "code",
      "metadata": {
        "id": "FUY0MxjxXqDO",
        "colab_type": "code",
        "colab": {
          "base_uri": "https://localhost:8080/",
          "height": 323
        },
        "outputId": "72af39eb-e33f-4697-b5b0-b2977a1baaea"
      },
      "source": [
        "!wget https://storage.googleapis.com/bert_models/2018_11_03/multilingual_L-12_H-768_A-12.zip\n",
        "!unzip multilingual_L-12_H-768_A-12.zip\n",
        "os.makedirs('model',exist_ok = True)\n",
        "!mv multilingual_L-12_H-768_A-12/ model\n",
        "!rm -r multilingual_L-12_H-768_A-12.zip"
      ],
      "execution_count": 23,
      "outputs": [
        {
          "output_type": "stream",
          "text": [
            "--2020-08-30 19:45:20--  https://storage.googleapis.com/bert_models/2018_11_03/multilingual_L-12_H-768_A-12.zip\n",
            "Resolving storage.googleapis.com (storage.googleapis.com)... 74.125.20.128, 74.125.142.128, 74.125.195.128, ...\n",
            "Connecting to storage.googleapis.com (storage.googleapis.com)|74.125.20.128|:443... connected.\n",
            "HTTP request sent, awaiting response... 200 OK\n",
            "Length: 623781697 (595M) [application/zip]\n",
            "Saving to: ‘multilingual_L-12_H-768_A-12.zip’\n",
            "\n",
            "multilingual_L-12_H 100%[===================>] 594.88M   174MB/s    in 3.4s    \n",
            "\n",
            "2020-08-30 19:45:24 (174 MB/s) - ‘multilingual_L-12_H-768_A-12.zip’ saved [623781697/623781697]\n",
            "\n",
            "Archive:  multilingual_L-12_H-768_A-12.zip\n",
            "   creating: multilingual_L-12_H-768_A-12/\n",
            "  inflating: multilingual_L-12_H-768_A-12/bert_model.ckpt.meta  \n",
            "  inflating: multilingual_L-12_H-768_A-12/bert_model.ckpt.data-00000-of-00001  \n",
            "  inflating: multilingual_L-12_H-768_A-12/vocab.txt  \n",
            "  inflating: multilingual_L-12_H-768_A-12/bert_model.ckpt.index  \n",
            "  inflating: multilingual_L-12_H-768_A-12/bert_config.json  \n"
          ],
          "name": "stdout"
        }
      ]
    },
    {
      "cell_type": "markdown",
      "metadata": {
        "id": "XG7h8gk2ukcp",
        "colab_type": "text"
      },
      "source": [
        "Define Bert file addresses"
      ]
    },
    {
      "cell_type": "code",
      "metadata": {
        "id": "cznOCAqIaftI",
        "colab_type": "code",
        "colab": {}
      },
      "source": [
        "bert_model_name = 'multilingual_L-12_H-768_A-12'\n",
        "bert_dir = os.path.join('model/',bert_model_name)\n",
        "bert_ckpt_file = os.path.join(bert_dir, 'bert_model.ckpt')\n",
        "bert_config_file = os.path.join(bert_dir, 'bert_config.json')\n",
        "bert_vocab_file = os.path.join(bert_dir, 'vocab.txt')"
      ],
      "execution_count": 28,
      "outputs": []
    },
    {
      "cell_type": "markdown",
      "metadata": {
        "id": "WT6irca7gpLD",
        "colab_type": "text"
      },
      "source": [
        "Preprocess data\n",
        "1. tokenization\n",
        "2. padding"
      ]
    },
    {
      "cell_type": "code",
      "metadata": {
        "id": "E8Ge6ZYsgsGD",
        "colab_type": "code",
        "colab": {}
      },
      "source": [
        "class Preprocessor:\n",
        "  DATA_COLUMN = 'text'\n",
        "  LABEL_COLUMN = 'intent'\n",
        "  def __init__(self, train, valid, test, tokenizer, classes):\n",
        "    self.maxlen = 0 \n",
        "    self.tokenizer = tokenizer\n",
        "    self.classes = classes\n",
        "\n",
        "    self.train_x , self.train_y = self.prepare(train)\n",
        "    self.valid_x , self.valid_y = self.prepare(valid)\n",
        "    self.test_x , self.test_y = self.prepare(test)\n",
        "    self.train_x = self.pad(self.train_x)\n",
        "    self.test_x = self.pad(self.test_x)\n",
        "    self.valid_x = self.pad(self.valid_x)\n",
        "\n",
        "    self.train_x = np.array(self.train_x)\n",
        "    self.train_y = np.array(self.train_y)\n",
        "    \n",
        "    self.valid_x = np.array(self.valid_x)\n",
        "    self.valid_y = np.array(self.valid_y)\n",
        "\n",
        "    self.test_x = np.array(self.test_x)\n",
        "    self.test_y = np.array(self.test_y)\n",
        "\n",
        "  def prepare(self, df):\n",
        "    x, y = [], []\n",
        "    for text,intent in zip(df.text,df.intent):\n",
        "      tokens = tokenizer.tokenize(text)\n",
        "      tokens = ['[CLS]']+ tokens+ ['[SEP]']\n",
        "      tokenIds =self.tokenizer.convert_tokens_to_ids(tokens)\n",
        "      self.maxlen = max(self.maxlen, len(tokenIds))\n",
        "      x.append(tokenIds)\n",
        "      y.append(classes.index(intent))\n",
        "    return x,y\n",
        "\n",
        "  def pad(self,ids):\n",
        "    x = []\n",
        "    for input_ids in ids:\n",
        "      input_ids = input_ids + [0] * (self.maxlen - len(input_ids))\n",
        "      x.append(np.array(input_ids))\n",
        "    return x\n"
      ],
      "execution_count": 29,
      "outputs": []
    },
    {
      "cell_type": "markdown",
      "metadata": {
        "id": "_5atgz0TvG20",
        "colab_type": "text"
      },
      "source": [
        "Find out how many classes we have and what are they"
      ]
    },
    {
      "cell_type": "code",
      "metadata": {
        "id": "e58DB3rvFngU",
        "colab_type": "code",
        "colab": {
          "base_uri": "https://localhost:8080/",
          "height": 34
        },
        "outputId": "8d0a4b90-fa1b-4779-d0d6-205735da7596"
      },
      "source": [
        "# extract intent classes\n",
        "classes = []\n",
        "for elem in train['intent']:\n",
        "  if elem not in classes:\n",
        "    classes.append(elem)\n",
        "print(classes)"
      ],
      "execution_count": 26,
      "outputs": [
        {
          "output_type": "stream",
          "text": [
            "['PlayMusic', 'AddToPlaylist', 'RateBook', 'SearchScreeningEvent', 'BookRestaurant', 'GetWeather', 'SearchCreativeWork']\n"
          ],
          "name": "stdout"
        }
      ]
    },
    {
      "cell_type": "code",
      "metadata": {
        "id": "Z1wyeB-3d7WW",
        "colab_type": "code",
        "colab": {}
      },
      "source": [
        "tokenizer = bert_tokenization.FullTokenizer(vocab_file = bert_vocab_file)\n",
        "data = Preprocessor( train, valid, test, tokenizer, classes )"
      ],
      "execution_count": 30,
      "outputs": []
    },
    {
      "cell_type": "markdown",
      "metadata": {
        "id": "ZmFR0e6YyNDh",
        "colab_type": "text"
      },
      "source": [
        "Create a classification Model\n",
        "1. first layer is a Bert layer and its weights is loaded in it\n",
        "2. then there is a lambda\n",
        "3. after that there is a dropout to prevent overfitting\n",
        "4. next there is a dense\n",
        "5. and then again a dropout layer\n",
        "6. and finally an output layer with number of neurons equal to number of classes"
      ]
    },
    {
      "cell_type": "code",
      "metadata": {
        "id": "NcF9GX4ZyQzV",
        "colab_type": "code",
        "colab": {}
      },
      "source": [
        "def CreateModel(maxLen, bert_config_file, bert_ckpt_file):\n",
        "  with tf.io.gfile.GFile(bert_config_file,'r') as reader:\n",
        "      bc = StockBertConfig.from_json_string(reader.read())\n",
        "      bert_params = map_stock_config_to_params(bc)\n",
        "      bert_params.adapter_size = None\n",
        "      bert = BertModelLayer.from_params(bert_params, name=\"bert\")\n",
        "  \n",
        "  input = Input(shape = (maxLen, ), dtype='int32', name = 'input_ids')\n",
        "  bert_output = bert(input)\n",
        "\n",
        "  cls_out = keras.layers.Lambda(lambda seq: seq[:, 0, :])(bert_output)\n",
        "  cls_out = keras.layers.Dropout(0.5)(cls_out)\n",
        "\n",
        "  logits = keras.layers.Dense(units=1024, activation=\"tanh\")(cls_out)\n",
        "  logits = keras.layers.Dropout(0.5)(logits)\n",
        "\n",
        "  logits = keras.layers.Dense(units=len(classes),activation=\"softmax\")(logits)\n",
        "\n",
        "  model = keras.Model(inputs=input, outputs=logits)\n",
        "\n",
        "  plot_model(model)\n",
        "\n",
        "  model.build(input_shape=(None, maxLen))\n",
        "\n",
        "  load_stock_weights(bert, bert_ckpt_file)\n",
        "  \n",
        "  return model"
      ],
      "execution_count": 31,
      "outputs": []
    },
    {
      "cell_type": "code",
      "metadata": {
        "id": "wwtilvbhzDuj",
        "colab_type": "code",
        "colab": {
          "base_uri": "https://localhost:8080/",
          "height": 241
        },
        "outputId": "91c3b34b-df11-4452-fd98-51b5870ec062"
      },
      "source": [
        "model = CreateModel(data.maxlen, bert_config_file, bert_ckpt_file)"
      ],
      "execution_count": 32,
      "outputs": [
        {
          "output_type": "stream",
          "text": [
            "Done loading 196 BERT weights from: model/multilingual_L-12_H-768_A-12/bert_model.ckpt into <bert.model.BertModelLayer object at 0x7fc82ae05cc0> (prefix:bert). Count of weights not found in the checkpoint was: [0]. Count of weights with mismatched shape: [0]\n",
            "Unused weights from checkpoint: \n",
            "\tbert/embeddings/token_type_embeddings\n",
            "\tbert/pooler/dense/bias\n",
            "\tbert/pooler/dense/kernel\n",
            "\tcls/predictions/output_bias\n",
            "\tcls/predictions/transform/LayerNorm/beta\n",
            "\tcls/predictions/transform/LayerNorm/gamma\n",
            "\tcls/predictions/transform/dense/bias\n",
            "\tcls/predictions/transform/dense/kernel\n",
            "\tcls/seq_relationship/output_bias\n",
            "\tcls/seq_relationship/output_weights\n"
          ],
          "name": "stdout"
        }
      ]
    },
    {
      "cell_type": "code",
      "metadata": {
        "id": "_Xnz1dSPf-0t",
        "colab_type": "code",
        "colab": {}
      },
      "source": [
        "model.compile(\n",
        "  optimizer=keras.optimizers.Adam(1e-5),\n",
        "  loss = keras.losses.SparseCategoricalCrossentropy(from_logits=True),\n",
        "  metrics=[keras.metrics.SparseCategoricalAccuracy(name=\"acc\")]\n",
        ")"
      ],
      "execution_count": 33,
      "outputs": []
    },
    {
      "cell_type": "markdown",
      "metadata": {
        "id": "rPzKELSiwvr7",
        "colab_type": "text"
      },
      "source": [
        "Train the model with recomanded epochs and batch size"
      ]
    },
    {
      "cell_type": "code",
      "metadata": {
        "id": "1hqiQJ2EllYH",
        "colab_type": "code",
        "colab": {
          "base_uri": "https://localhost:8080/",
          "height": 153
        },
        "outputId": "36c8dc1f-7f0a-4328-84bb-394348024722"
      },
      "source": [
        "early_stopping = keras.callbacks.EarlyStopping(patience = 1 );\n",
        "history = model.fit(\n",
        "  x = data.train_x,\n",
        "  epochs = 5,\n",
        "  y = data.train_y,\n",
        "  validation_split = 0.1,\n",
        "  batch_size = 16,\n",
        "  shuffle = True,\n",
        "  callbacks = [early_stopping]\n",
        ")"
      ],
      "execution_count": 34,
      "outputs": [
        {
          "output_type": "stream",
          "text": [
            "Epoch 1/5\n",
            "736/736 [==============================] - 610s 829ms/step - loss: 1.3182 - acc: 0.8556 - val_loss: 1.1893 - val_acc: 0.9763\n",
            "Epoch 2/5\n",
            "736/736 [==============================] - 599s 814ms/step - loss: 1.1866 - acc: 0.9802 - val_loss: 1.1878 - val_acc: 0.9771\n",
            "Epoch 3/5\n",
            "736/736 [==============================] - 606s 824ms/step - loss: 1.1801 - acc: 0.9856 - val_loss: 1.1808 - val_acc: 0.9847\n",
            "Epoch 4/5\n",
            "736/736 [==============================] - 607s 824ms/step - loss: 1.1785 - acc: 0.9871 - val_loss: 1.1846 - val_acc: 0.9801\n"
          ],
          "name": "stdout"
        }
      ]
    },
    {
      "cell_type": "code",
      "metadata": {
        "id": "OQsSG4VUtE7C",
        "colab_type": "code",
        "colab": {
          "base_uri": "https://localhost:8080/",
          "height": 513
        },
        "outputId": "9931a168-ce1d-4334-fed9-7453516e656f"
      },
      "source": [
        "plt.plot(history.history['val_acc'])\n",
        "plt.plot(history.history['acc'])\n",
        "plt.legend(['val_acc','acc'])\n",
        "plt.show()\n",
        "plt.plot(history.history['val_loss'])\n",
        "plt.plot(history.history['loss'])\n",
        "plt.legend(['val_loss','loss'])\n",
        "plt.show()"
      ],
      "execution_count": 35,
      "outputs": [
        {
          "output_type": "display_data",
          "data": {
            "image/png": "[encoded data removed]",
            "text/plain": [
              "<Figure size 432x288 with 1 Axes>"
            ]
          },
          "metadata": {
            "tags": [],
            "needs_background": "light"
          }
        },
        {
          "output_type": "display_data",
          "data": {
            "image/png": "[encoded data removed]",
            "text/plain": [
              "<Figure size 432x288 with 1 Axes>"
            ]
          },
          "metadata": {
            "tags": [],
            "needs_background": "light"
          }
        }
      ]
    },
    {
      "cell_type": "markdown",
      "metadata": {
        "id": "xkb27ePK70DV",
        "colab_type": "text"
      },
      "source": [
        "evaluate on test data"
      ]
    },
    {
      "cell_type": "code",
      "metadata": {
        "id": "GeAXdtoD76yx",
        "colab_type": "code",
        "colab": {
          "base_uri": "https://localhost:8080/",
          "height": 68
        },
        "outputId": "7ae3d371-b8bc-48b1-c488-cc3cdf3acf66"
      },
      "source": [
        "eval = model.evaluate(data.test_x,data.test_y,batch_size=16)\n",
        "for metric,metric_name in zip(eval,model.metrics_names):\n",
        "  print('{} : {}'.format(metric_name,np.round(metric,2)))"
      ],
      "execution_count": 36,
      "outputs": [
        {
          "output_type": "stream",
          "text": [
            "44/44 [==============================] - 3s 57ms/step - loss: 1.1932 - acc: 0.9714\n",
            "loss : 1.19\n",
            "acc : 0.97\n"
          ],
          "name": "stdout"
        }
      ]
    },
    {
      "cell_type": "code",
      "metadata": {
        "id": "lvjvWRKoFnd7",
        "colab_type": "code",
        "colab": {}
      },
      "source": [
        "def pre_persian(text):\n",
        "  tokens = tokenizer.tokenize(text)\n",
        "  tokens = ['[CLS]']+ tokens+ ['[SEP]']\n",
        "  tokenIds = [tokenizer.convert_tokens_to_ids(tokens)]\n",
        "  maxlen = data.maxlen\n",
        "  \n",
        "  x = []\n",
        "  for input_ids in tokenIds:\n",
        "    input_ids = input_ids + [0] * (maxlen - len(input_ids))\n",
        "    x.append(np.array(input_ids))\n",
        "  return x"
      ],
      "execution_count": 67,
      "outputs": []
    },
    {
      "cell_type": "markdown",
      "metadata": {
        "id": "U4iOd18GCpLa",
        "colab_type": "text"
      },
      "source": [
        "Predict some text's intent"
      ]
    },
    {
      "cell_type": "code",
      "metadata": {
        "id": "y6MA57W7CoVu",
        "colab_type": "code",
        "colab": {
          "base_uri": "https://localhost:8080/",
          "height": 119
        },
        "outputId": "59d5f479-8854-4027-fdb1-14d0ced0ae58"
      },
      "source": [
        "from random import randint\n",
        "# ind=randint(0,len(data.test_y))\n",
        "ind = 9\n",
        "print('English Input: {}'.format(test.text[ind]))\n",
        "print('actual result: {}'.format(test.intent[ind]))\n",
        "\n",
        "\n",
        "print('\\n')\n",
        "persian ='جون ۲۰۲۶ من دوست دارم به رستوران بروم' \n",
        "print('farsi sentece: {}'.format(persian))\n",
        "persian = pre_persian(persian)\n",
        "predicted_result_ind = np.argmax(\n",
        "    model.predict(\n",
        "    np.array(persian)\n",
        "    )[0]\n",
        ")\n",
        "\n",
        "predicted_result = classes[predicted_result_ind]\n",
        "print('predict result: {}'.format(predicted_result))"
      ],
      "execution_count": 87,
      "outputs": [
        {
          "output_type": "stream",
          "text": [
            "English Input: on june 27  2026 i d like to go to a delaware gastropub\n",
            "actual result: BookRestaurant\n",
            "\n",
            "\n",
            "farsi sentece: جون ۲۰۲۶ من دوست دارم به رستوران بروم\n",
            "predict result: BookRestaurant\n"
          ],
          "name": "stdout"
        }
      ]
    }
  ]
}